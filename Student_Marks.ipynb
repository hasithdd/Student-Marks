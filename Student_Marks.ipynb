{
 "cells": [
  {
   "cell_type": "code",
   "execution_count": null,
   "metadata": {},
   "outputs": [],
   "source": [
    "import numpy as np\n",
    "import pandas as pd\n",
    "import plotly.express as px\n",
    "from sklearn.model_selection import train_test_split\n",
    "from sklearn.linear_model import LinearRegression\n",
    "\n",
    "data = pd.read_csv(\"Student_Marks.csv\")\n",
    "print(data.head(10))\n",
    "\n",
    "print(data.isnull().sum())\n",
    "\n",
    "data[\"number_courses\"].value_counts()\n",
    "\n",
    "figure = px.scatter(data_frame=data, x = \"number_courses\", \n",
    "                    y = \"Marks\", size = \"time_study\", \n",
    "                    title=\"Number of Courses and Marks Scored\")\n",
    "figure.show()\n",
    "\n",
    "figure = px.scatter(data_frame=data, x = \"time_study\", \n",
    "                    y = \"Marks\", size = \"number_courses\", \n",
    "                    title=\"Time Spent and Marks Scored\", trendline=\"ols\")\n",
    "figure.show()\n",
    "\n",
    "correlation = data.corr()\n",
    "print(correlation[\"Marks\"].sort_values(ascending=False))\n",
    "\n",
    "x = np.array(data[[\"time_study\", \"number_courses\"]])\n",
    "y = np.array(data[\"Marks\"])\n",
    "xtrain, xtest, ytrain, ytest = train_test_split(x, y, \n",
    "                                                test_size=0.2, \n",
    "                                                random_state=42)\n",
    "\n",
    "model = LinearRegression()\n",
    "model.fit(xtrain, ytrain)\n",
    "model.score(xtest, ytest)\n",
    "\n",
    "features = np.array([[4.508, 3]])\n",
    "model.predict(features)\n",
    "\n"
   ]
  }
 ],
 "metadata": {
  "language_info": {
   "name": "python"
  }
 },
 "nbformat": 4,
 "nbformat_minor": 2
}
